{
 "cells": [
  {
   "cell_type": "markdown",
   "metadata": {},
   "source": [
    "# Задание 1.\n",
    "Даны 2 строки long_phrase и short_phrase. Напишите код, который проверяет действительно ли длинная фраза long_phrase длиннее короткой short_phrase. И выводит True или False в зависимости от результата сравнения.\n",
    "\n",
    "long_phrase = 'Насколько проще было бы писать программы, если бы не заказчики’\n",
    "short_phrase = ‘640Кб должно хватить для любых задач. Билл Гейтс (по легенде)’"
   ]
  },
  {
   "cell_type": "code",
   "execution_count": 1,
   "metadata": {},
   "outputs": [
    {
     "name": "stdout",
     "output_type": "stream",
     "text": [
      "True\n"
     ]
    }
   ],
   "source": [
    "long_phrase = 'Насколько проще было бы писать программы, если бы не заказчики'\n",
    "short_phrase = '640Кб должно хватить для любых задач. Билл Гейтс (по легенде)'\n",
    "\n",
    "a = len(long_phrase)\n",
    "b = len(short_phrase)\n",
    "\n",
    "print(a > b)"
   ]
  },
  {
   "cell_type": "code",
   "execution_count": 2,
   "metadata": {},
   "outputs": [
    {
     "name": "stdout",
     "output_type": "stream",
     "text": [
      "TRUE\n"
     ]
    }
   ],
   "source": [
    "a = len(long_phrase)\n",
    "b = len(short_phrase)\n",
    "\n",
    "#print(a)\n",
    "#print(b)\n",
    "if a > b:\n",
    "    print(\"TRUE\")\n",
    "else:\n",
    "    print(\"FALSE\")"
   ]
  },
  {
   "cell_type": "markdown",
   "metadata": {},
   "source": [
    "# Задание 2.\n",
    "Дано значение объема файла в байтах. Напишите перевод этого значения в мегабайты в формате:\n",
    "‘Объем файла равен 213.68Mb’"
   ]
  },
  {
   "cell_type": "code",
   "execution_count": 3,
   "metadata": {},
   "outputs": [
    {
     "name": "stdout",
     "output_type": "stream",
     "text": [
      "Введите значение объема файла в байтах: 7000000\n",
      "Объем файла равен 6.68Mb\n"
     ]
    }
   ],
   "source": [
    "'''\n",
    "1 байт - 8 бит\n",
    "1 килобайт - 1024 байт\n",
    "1 мегабайт - 1024 килобайт\n",
    "'''\n",
    "\n",
    "file_size_byte = int(input('Введите значение объема файла в байтах: '))\n",
    "file_size_megabyte = file_size_byte/ 1024 / 1024\n",
    "print(\"Объем файла равен {:.2f}Mb\".format(file_size_megabyte))"
   ]
  },
  {
   "cell_type": "markdown",
   "metadata": {},
   "source": [
    "# Задание 3.\n",
    "Разработать приложение для определения знака зодиака по дате рождения.\n",
    "Пример:\n",
    "\n",
    "Введите месяц: март\n",
    "Введите число: 6\n",
    "\n",
    "Вывод:\n",
    "Рыбы"
   ]
  },
  {
   "cell_type": "code",
   "execution_count": 5,
   "metadata": {},
   "outputs": [
    {
     "name": "stdout",
     "output_type": "stream",
     "text": [
      "Введите месяц: Июнь\n",
      "Введите дату рождения: 21\n",
      "По знаку зодиака Вы - Близнецы\n"
     ]
    }
   ],
   "source": [
    "'''\n",
    "Дата рождения                   Знак Зодиака\n",
    "с 21 марта по 20 апреля         Овен\n",
    "с 21 апреля по 20 мая           Телец\n",
    "с 21 мая по 21 июня             Близнецы\n",
    "с 22 июня по 22 июля            Рак\n",
    "с 23 июля по 23 августа         Лев\n",
    "с 24 августа по 23 сентября     Дева\n",
    "с 24 сентября по 23 октября     Весы\n",
    "с 24 октября по 22 ноября       Скорпион\n",
    "с 23 ноября по 21 декабря       Стрелец\n",
    "с 22 декабря по 20 января       Козерог\n",
    "с 21 января по 20 февраля       Водолей\n",
    "с 21 февраля по 20 марта        Рыбы\n",
    "'''\n",
    "\n",
    "month_of_bith = str(input(\"Введите месяц: \"))\n",
    "day_of_bith = int(input(\"Введите дату рождения: \"))\n",
    "\n",
    "\n",
    "if (month_of_bith == \"Март\" and 21 <= day_of_bith <= 31) or (month_of_bith == \"Апрель\" and 1 <= day_of_bith <= 20):\n",
    "    print(\"По знаку зодиака Вы - Овен\")\n",
    "\n",
    "elif (month_of_bith == \"Апрель\" and 21 <= day_of_bith <= 30) or (month_of_bith == \"Май\" and 1 <= day_of_bith <= 20):\n",
    "    print(\"По знаку зодиака Вы - Телец\")\n",
    "\n",
    "elif (month_of_bith == \"Май\" and 21 <= day_of_bith <= 31) or (month_of_bith == \"Июнь\" and 1 <= day_of_bith <= 21):\n",
    "    print(\"По знаку зодиака Вы - Близнецы\")\n",
    "\n",
    "elif (month_of_bith == \"Июнь\" and 22 <= day_of_bith <= 30) or (month_of_bith == \"Июль\" and 1 <= day_of_bith <= 2):\n",
    "    print(\"По знаку зодиака Вы - Рак\")\n",
    "\n",
    "elif (month_of_bith == \"Июль\" and 23 <= day_of_bith <= 31) or (month_of_bith == \"Август\" and 1 <= day_of_bith <= 23):\n",
    "    print(\"По знаку зодиака Вы - Лев\")\n",
    "\n",
    "elif (month_of_bith == \"Август\" and 24 <= day_of_bith <= 31) or (month_of_bith == \"Сентябрь\" and 1 <= day_of_bith <= 23):\n",
    "    print(\"По знаку зодиака Вы - Дева\")\n",
    "\n",
    "elif (month_of_bith == \"Сентябрь\" and 24 <= day_of_bith <= 30) or  (month_of_bith == \"Октябрь\" and 1 <= day_of_bith <= 23):\n",
    "    print(\"По знаку зодиака Вы - Весы\")\n",
    "\n",
    "elif (month_of_bith == \"Октябрь\" and 24 <= day_of_bith <= 31) or (month_of_bith == \"Ноябрь\" and 1 <= day_of_bith <= 22):\n",
    "    print(\"По знаку зодиака Вы - Скорпион\")\n",
    "\n",
    "elif (month_of_bith == \"Ноябрь\" and 23 <= day_of_bith <= 30) or (month_of_bith == \"Декабрь\" and 1 <= day_of_bith <= 21):\n",
    "    print(\"По знаку зодиака Вы - Стрелец\")\n",
    "\n",
    "elif (month_of_bith == \"Декабрь\" and 22 <= day_of_bith <= 31) or (month_of_bith == \"Январь\" and 1 <= day_of_bith <= 20):\n",
    "    print(\"По знаку зодиака Вы - Козерог\")\n",
    "\n",
    "elif (month_of_bith == \"Январь\" and 21 <= day_of_bith <= 31) or (month_of_bith == \"Февраль\" and 1 <= day_of_bith <= 20):\n",
    "    print(\"По знаку зодиака Вы - Водолей\")\n",
    "\n",
    "else:\n",
    "    print(\"По знаку зодиака Вы - Рыбы\")"
   ]
  },
  {
   "cell_type": "markdown",
   "metadata": {},
   "source": [
    "# Задание 4.\n",
    "Нужно разработать приложение для финансового планирования.\n",
    "Приложение учитывает сколько уходит на ипотеку, “на жизнь” и сколько нужно отложить на пенсию.\n",
    "Пользователь вводит заработанную плату в месяц.\n",
    "Сколько процентов от зп уходит на ипотеку.\n",
    "Сколько процентов от зп уходит “на жизнь”.\n",
    "Сколько раз приходит премия в год.\n",
    "Остальная часть заработанной платы откладывается на пенсию.\n",
    "Также пользователю приходит премия в размере зарплаты, от которой половина уходит на отпуск, а вторая половина откладывается.\n",
    "Программа должна учитывать сколько премий было в год.\n",
    "Нужно вывести сколько денег тратит пользователь на ипотеку и сколько он накопит за год.\n",
    "Пример:\n",
    "\n",
    "Введите заработанную плату в месяц: 100000\n",
    "Введите сколько процентов уходит на ипотеку: 30\n",
    "Введите сколько процентов уходит на жизнь: 50\n",
    "Введите количество премий за год: 2\n",
    "\n",
    "Вывод:\n",
    "На ипотеку было потрачено: 360000 рублей\n",
    "Было накоплено: 340000 рублей"
   ]
  },
  {
   "cell_type": "code",
   "execution_count": 6,
   "metadata": {},
   "outputs": [
    {
     "name": "stdout",
     "output_type": "stream",
     "text": [
      "Please enter your monthly net income: 100000\n",
      "Enter how much interest is spent on a mortgage: 30\n",
      "Enter a percentage of recurrent payments: 50\n",
      "Enter the number of bonuses per year: 2\n",
      "Total:\n",
      "Total mortgage:  360000.0 RUR\n",
      "Accumulated Amount:  340000.0 RUR\n"
     ]
    }
   ],
   "source": [
    "monthly_net = int(input(\"Please enter your monthly net income: \"))\n",
    "interest_mortgage = int(input(\"Enter how much interest is spent on a mortgage: \"))\n",
    "recurrent_payments = int(input(\"Enter a percentage of recurrent payments: \"))\n",
    "number_of_bonuses = int(input(\"Enter the number of bonuses per year: \"))\n",
    "\n",
    "# Считаем зарплату за год\n",
    "total_yearly_net = monthly_net * 12\n",
    "\n",
    "total_mortgage = (total_yearly_net * interest_mortgage)/100\n",
    "\n",
    "total_recurrent_payments = (total_yearly_net * recurrent_payments)/100\n",
    "total_of_bonuses = monthly_net *number_of_bonuses\n",
    "\n",
    "accumulated_amount = total_yearly_net -  total_recurrent_payments - total_mortgage\n",
    "accumulated_amount_total = total_of_bonuses/2 + accumulated_amount\n",
    "print(\"Total:\")\n",
    "print(\"Total mortgage: \", total_mortgage, \"RUR\")\n",
    "print(\"Accumulated Amount: \", accumulated_amount_total, \"RUR\")"
   ]
  },
  {
   "cell_type": "markdown",
   "metadata": {},
   "source": [
    "# Задание дополнительное\n",
    "\n",
    "Задание 1\n",
    "https://ru.wikipedia.org/wiki/Fizz_buzz\n",
    "Начинающий произносит число “1”, и каждый следующий игрок прибавляет к предыдущему значению единицу. Когда число делится на три оно заменяется на fizz, если число делится на пять, то произносится buzz. Числа, делящиеся на три и пять одновременно заменяются на fizz buzz. Сделавший ошибку игрок исключается из игры."
   ]
  },
  {
   "cell_type": "code",
   "execution_count": 7,
   "metadata": {},
   "outputs": [
    {
     "name": "stdout",
     "output_type": "stream",
     "text": [
      "Введите число: 21\n",
      "'1', '2', 'Fizz', '4', 'Buzz', 'Fizz', '7', '8', 'Fizz', 'Buzz', '11', 'Fizz', '13', '14', 'Fizz Buzz', '16', '17', 'Fizz', '19', 'Buzz', 'Fizz'\n"
     ]
    }
   ],
   "source": [
    "number = int(input('Введите число: '))\n",
    "string = []\n",
    "\n",
    "# Цикл до введенного числа\n",
    "for i in range(1,number+1):\n",
    "#     Если число делится на 3 и 5 без остатка\n",
    "    if i % 3 == 0 and i % 5 == 0:\n",
    "#         Добавить элемент в лист\n",
    "        string.append('Fizz Buzz')\n",
    "    elif i % 3 == 0:\n",
    "        string.append('Fizz')\n",
    "    elif i % 5 == 0:\n",
    "        string.append('Buzz')\n",
    "    else:\n",
    "        string.append(str(i))\n",
    "        \n",
    "print(str(string).strip('[]'))"
   ]
  },
  {
   "cell_type": "markdown",
   "metadata": {},
   "source": [
    "Задание 2\n",
    "Датчик принимает сигнал, состоящий из 0 и 1. Известно, что сигнал имеет периодичность, не превышающей натурального числа n. Напишите код, который вычисляет периодичность сигнала. Считайте, что 3 < n < 1000, а общая длина сигнала значительно превышает n.\n",
    "\n",
    "Пример сигнала с периодичностью 4 (повторяющийся элемент 1011):\n",
    "1011101110111011101110111011101110111011\n",
    "\n",
    "Еще одна интерпретация задачи, но без кода: https://tproger.ru/problems/endless-train/\n"
   ]
  },
  {
   "cell_type": "code",
   "execution_count": 8,
   "metadata": {},
   "outputs": [
    {
     "name": "stdout",
     "output_type": "stream",
     "text": [
      "Частота сиганала = 7, signal_part = 1110011\n"
     ]
    }
   ],
   "source": [
    "full_signal = '11100111110011111001111100111110011111001111100111110011'\n",
    "\n",
    "for n in range(3, 1000, 1):\n",
    "    if full_signal[:n] == full_signal[n: 2 * n] ==  full_signal[-n:]:\n",
    "        print (f'Частота сиганала = {str(len(full_signal[:n]))}, signal_part = {full_signal[:n]}')\n",
    "        break\n",
    "    else:\n",
    "        n += 1"
   ]
  },
  {
   "cell_type": "markdown",
   "metadata": {},
   "source": [
    "# Задание 3\n",
    "Дано слово из латинских букв. Напишите скрипт, который выводит на экран букву из середины слова (если число букв нечетное). Если букв четное число, то на экран выводятся две буквы из середины.\n",
    "\n",
    "Для ‘test’ - 'es’\n",
    "Для ‘testing’ - ‘t’"
   ]
  },
  {
   "cell_type": "code",
   "execution_count": null,
   "metadata": {},
   "outputs": [],
   "source": [
    "word = input('Write a word ')\n",
    "lenght = len(word)\n",
    "if lenght % 2 == 0:\n",
    "    print(word[lenght//2-1:lenght//2+1])\n",
    "else:\n",
    "    print(word[lenght//2])\n",
    "    "
   ]
  },
  {
   "cell_type": "code",
   "execution_count": null,
   "metadata": {},
   "outputs": [],
   "source": []
  },
  {
   "cell_type": "code",
   "execution_count": null,
   "metadata": {},
   "outputs": [],
   "source": []
  }
 ],
 "metadata": {
  "kernelspec": {
   "display_name": "Python 3",
   "language": "python",
   "name": "python3"
  },
  "language_info": {
   "codemirror_mode": {
    "name": "ipython",
    "version": 3
   },
   "file_extension": ".py",
   "mimetype": "text/x-python",
   "name": "python",
   "nbconvert_exporter": "python",
   "pygments_lexer": "ipython3",
   "version": "3.7.4"
  }
 },
 "nbformat": 4,
 "nbformat_minor": 2
}
