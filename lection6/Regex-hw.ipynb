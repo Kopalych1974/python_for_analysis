{
 "cells": [
  {
   "cell_type": "markdown",
   "metadata": {},
   "source": [
    "# Домашнее задание к лекции \"Регулярные выражения\"\n",
    "Для зачета необходимо выполнить 4 задания.  \n",
    "Для зачета с отличием – все."
   ]
  },
  {
   "cell_type": "markdown",
   "metadata": {},
   "source": [
    "## Задание 1"
   ]
  },
  {
   "cell_type": "markdown",
   "metadata": {},
   "source": [
    "Напишите функцию, которая принимает на вход строку и проверяет является ли она валидным транспортным номером. Если да, то функция должна возвращать отдельно номер и регион."
   ]
  },
  {
   "cell_type": "code",
   "execution_count": 1,
   "metadata": {},
   "outputs": [],
   "source": [
    "import re"
   ]
  },
  {
   "cell_type": "code",
   "execution_count": 2,
   "metadata": {},
   "outputs": [],
   "source": [
    "def validate_car_sign(car_sign):\n",
    "    pattern = '([а-я])(\\d{3})([а-я]{2})(\\d+)$'\n",
    "    number = re.match(pattern, car_sign.lower()).group(2)\n",
    "    region = re.match(pattern, car_sign.lower()).group(4)\n",
    "    \n",
    "    return number, region"
   ]
  },
  {
   "cell_type": "code",
   "execution_count": 21,
   "metadata": {},
   "outputs": [
    {
     "data": {
      "text/plain": [
       "('227', '197')"
      ]
     },
     "execution_count": 21,
     "metadata": {},
     "output_type": "execute_result"
    }
   ],
   "source": [
    "validate_car_sign('С227НА197')"
   ]
  },
  {
   "cell_type": "markdown",
   "metadata": {},
   "source": [
    "## Задание 2"
   ]
  },
  {
   "cell_type": "markdown",
   "metadata": {},
   "source": [
    "Напишите функцию, которая проверяет e-mail адрес на валидность по стандарту RFC822: http://www.w3.org/Protocols/rfc822/. Для этого постарайтесь написать (в крайнем случае найти) самый полный шаблон для проверки e-mail адресов через регулярное выражение. Разберитесь и напишите примеры, какие ваш шаблон может не охватить."
   ]
  },
  {
   "cell_type": "code",
   "execution_count": 4,
   "metadata": {},
   "outputs": [],
   "source": [
    "import re"
   ]
  },
  {
   "cell_type": "code",
   "execution_count": 5,
   "metadata": {},
   "outputs": [],
   "source": [
    "def mail_validate(mail):\n",
    "    print(mail)\n",
    "    pattern = '''(?:[a-z0-9!#$%&'*+/=?^_`{|}~-]+(?:\\.[a-z0-9!#$%&'*+/=?^_`{|}~-]+)*|\"(?:[\\x01-\\x08\\x0b\\x0c\\x0e-\\x1f\\x21\\x23-\\x5b\\x5d-\\x7f]|\\\\[\\x01-\\x09\\x0b\\x0c\\x0e-\\x7f])*\")@(?:(?:[a-z0-9](?:[a-z0-9-]*[a-z0-9])?\\.)+[a-z0-9](?:[a-z0-9-]*[a-z0-9])?|\\[(?:(?:(2(5[0-5]|[0-4][0-9])|1[0-9][0-9]|[1-9]?[0-9]))\\.){3}(?:(2(5[0-5]|[0-4][0-9])|1[0-9][0-9]|[1-9]?[0-9])|[a-z0-9-]*[a-z0-9]:(?:[\\x01-\\x08\\x0b\\x0c\\x0e-\\x1f\\x21-\\x5a\\x53-\\x7f]|\\\\[\\x01-\\x09\\x0b\\x0c\\x0e-\\x7f])+)\\])'''\n",
    "    return re.match(pattern, mail)"
   ]
  },
  {
   "cell_type": "code",
   "execution_count": 6,
   "metadata": {},
   "outputs": [
    {
     "name": "stdout",
     "output_type": "stream",
     "text": [
      "test@test.ru\n"
     ]
    },
    {
     "data": {
      "text/plain": [
       "<re.Match object; span=(0, 12), match='test@test.ru'>"
      ]
     },
     "execution_count": 6,
     "metadata": {},
     "output_type": "execute_result"
    }
   ],
   "source": [
    "mail_validate('test@test.ru')"
   ]
  },
  {
   "cell_type": "markdown",
   "metadata": {},
   "source": [
    "## Задание 3\n",
    "Напишите функцию, которая будет удалять все последовательные повторы слов из заданной строки."
   ]
  },
  {
   "cell_type": "code",
   "execution_count": 17,
   "metadata": {},
   "outputs": [],
   "source": [
    "import re"
   ]
  },
  {
   "cell_type": "code",
   "execution_count": 18,
   "metadata": {},
   "outputs": [],
   "source": [
    "def remove_repeats(string):\n",
    "    return re.sub(r'\\b(\\w+)( \\1\\b)+', r'\\1', string)"
   ]
  },
  {
   "cell_type": "code",
   "execution_count": 19,
   "metadata": {},
   "outputs": [
    {
     "data": {
      "text/plain": [
       "\"We're going to be working with the python crash course notebook.\""
      ]
     },
     "execution_count": 19,
     "metadata": {},
     "output_type": "execute_result"
    }
   ],
   "source": [
    "remove_repeats(\"We're going to be working with the python python python crash course notebook.\")"
   ]
  },
  {
   "cell_type": "markdown",
   "metadata": {},
   "source": [
    "## Задание 4\n",
    "Напишите функцию, которая будет проверять номер сотового телефона на валидность, если он валиден, то переводить его в формат:   \n",
    "+7(xxx)-xxx-xx-xx  \n",
    "Постарайтесь предусмотреть как можно больше адекватных форматов изначального ввода номера.\n",
    "Примеры правильных и неправильных форматов:\n",
    "- +7 955 555-55-55;\n",
    "- 955555555;\n",
    "- 8(955)555-55-55;\n",
    "- +7 955 555 55 55;\n",
    "- 7(955) 555-55-55;\n",
    "- +7 955+555+55+55."
   ]
  },
  {
   "cell_type": "code",
   "execution_count": 20,
   "metadata": {},
   "outputs": [
    {
     "name": "stdout",
     "output_type": "stream",
     "text": [
      "number invalid: +1 555 555-55-55\n",
      "number invalid: 555555555\n",
      "number invalid: 5555555555\n",
      "number valid: +7(555)-555-55-55\n",
      "number valid: +7(555)-555-55-55\n",
      "number valid: +7(555)-555-55-55\n",
      "number valid: +7(555)-555-55-55\n"
     ]
    }
   ],
   "source": [
    "tel_list=[\"+1 555 555-55-55\",\n",
    "          \"555555555\",\n",
    "          \"5555555555\",\n",
    "          \"8(555)555-55-55\",\n",
    "          \"+7 555 555 55 55\",\n",
    "          \"7(555) 555-55-55\",\n",
    "          \"+7 555+555+55+55\"]\n",
    "\n",
    "def is_phone_valid(num):\n",
    "    valid_phone =re.compile(r\"^([+\\s]?[78])[- _():=+]*(\\d{3})[- _:=+)]*(\\d{0,3})[- _:=+]*(\\d{0,2})[- _:=+]*(\\d{0,2})\")\n",
    "    is_valid = valid_phone.match(num)\n",
    "    if is_valid:\n",
    "        right_format = r\"+7(\\2)-\\3-\\4-\\5\"\n",
    "        return(\"number valid: \"+re.sub(valid_phone,right_format, num))\n",
    "    else:\n",
    "        return(\"number invalid: \"+num)\n",
    "\n",
    "for num in tel_list:\n",
    "    print(is_phone_valid(num))"
   ]
  },
  {
   "cell_type": "code",
   "execution_count": null,
   "metadata": {},
   "outputs": [],
   "source": []
  },
  {
   "cell_type": "code",
   "execution_count": null,
   "metadata": {},
   "outputs": [],
   "source": []
  }
 ],
 "metadata": {
  "kernelspec": {
   "display_name": "Python 3",
   "language": "python",
   "name": "python3"
  },
  "language_info": {
   "codemirror_mode": {
    "name": "ipython",
    "version": 3
   },
   "file_extension": ".py",
   "mimetype": "text/x-python",
   "name": "python",
   "nbconvert_exporter": "python",
   "pygments_lexer": "ipython3",
   "version": "3.7.4"
  }
 },
 "nbformat": 4,
 "nbformat_minor": 2
}
