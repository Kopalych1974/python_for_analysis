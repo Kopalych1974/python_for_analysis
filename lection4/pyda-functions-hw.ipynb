{
 "cells": [
  {
   "cell_type": "markdown",
   "metadata": {},
   "source": [
    "## Задание 1"
   ]
  },
  {
   "cell_type": "markdown",
   "metadata": {},
   "source": [
    "Дан список вида:"
   ]
  },
  {
   "cell_type": "code",
   "execution_count": 1,
   "metadata": {},
   "outputs": [],
   "source": [
    "data = [\n",
    "    [13, 25, 23, 34],\n",
    "    [45, 32, 44, 47],\n",
    "    [12, 33, 23, 95],\n",
    "    [13, 53, 34, 35]\n",
    "]"
   ]
  },
  {
   "cell_type": "markdown",
   "metadata": {},
   "source": [
    "Напишите функцию, которая возвращает сумму элементов на диагонали. Т. е. 13+32+23+35.  \n",
    "Список может быть любой длины, но всегда является \"квадратным\" (количество элементов во вложенных списках равно их количеству)."
   ]
  },
  {
   "cell_type": "code",
   "execution_count": 4,
   "metadata": {},
   "outputs": [],
   "source": [
    "# print(data[0][0])\n",
    "# print(data[1][1])\n",
    "# print(data[2][2])\n",
    "# print(data[3][3])\n",
    "# print('--------------')"
   ]
  },
  {
   "cell_type": "code",
   "execution_count": 5,
   "metadata": {},
   "outputs": [
    {
     "name": "stdout",
     "output_type": "stream",
     "text": [
      "13\n",
      "32\n",
      "23\n",
      "35\n",
      "--------------\n",
      "Сумма по диагонали =  103\n"
     ]
    }
   ],
   "source": [
    "l = len(data)\n",
    "for i in range(l):\n",
    "  a = data[i][i]\n",
    "  print(a)\n",
    "    \n",
    "\n",
    "def sum_diagonal(data):\n",
    "    l = len(data)\n",
    "    a = sum(data[i][i] for i in range(l))\n",
    "   \n",
    "    \n",
    "    return a\n",
    "print('--------------')\n",
    "print('Сумма по диагонали = ', sum_diagonal(data))"
   ]
  },
  {
   "cell_type": "markdown",
   "metadata": {},
   "source": [
    "## Задание 2"
   ]
  },
  {
   "cell_type": "markdown",
   "metadata": {},
   "source": [
    "Напишите функцию, возвращающую сумму первых n чисел Фибоначчи (для этого вам может понадобится ознакомиться с рекурсией)."
   ]
  },
  {
   "cell_type": "code",
   "execution_count": 11,
   "metadata": {},
   "outputs": [],
   "source": [
    "def sum_fibonachi(n):\n",
    "    \"\"\"\n",
    "    Входные данные:\n",
    "        n - Количество первых чисел Фибоначчи\n",
    "    Результат:\n",
    "        Сумма n чисел Фибоначчи\n",
    "    \"\"\"\n",
    "    def fibonachi(n, s=0):\n",
    "        \"\"\"\n",
    "        Входные данные:\n",
    "            Число n - номер числа Фибоначчи\n",
    "        Результат:\n",
    "            Значение числа n Фибоначчи\n",
    "        \"\"\"\n",
    "        if n<=1:\n",
    "            return n\n",
    "        else:\n",
    "            return s + fibonachi(n-1,s) + fibonachi(n-2,s)\n",
    "    \n",
    "    return sum([fibonachi(i) for i in range(1,n+1)])"
   ]
  },
  {
   "cell_type": "code",
   "execution_count": 12,
   "metadata": {},
   "outputs": [
    {
     "name": "stdout",
     "output_type": "stream",
     "text": [
      "Сумма первых 8 чисел Фибоначчи равна 54\n"
     ]
    }
   ],
   "source": [
    "n = 8\n",
    "print(f\"Сумма первых {n} чисел Фибоначчи равна {sum_fibonachi(n)}\")"
   ]
  },
  {
   "cell_type": "markdown",
   "metadata": {},
   "source": [
    "## Задание 3\n"
   ]
  },
  {
   "cell_type": "markdown",
   "metadata": {},
   "source": [
    "Напишите функцию, преобразующую произвольный список вида ['2018-01-01', 'yandex', 'cpc', 100] (он может быть любой длины) в словарь {'2018-01-01': {'yandex': {'cpc': 100}}}"
   ]
  },
  {
   "cell_type": "code",
   "execution_count": 13,
   "metadata": {},
   "outputs": [],
   "source": [
    "l = ['2018-01-01', 'yandex', 'cpc', 100]"
   ]
  },
  {
   "cell_type": "code",
   "execution_count": 14,
   "metadata": {},
   "outputs": [],
   "source": [
    "def recursive_dict(x):\n",
    "    \"\"\"\n",
    "    Входные данные:\n",
    "        произвольный список\n",
    "    Результат:\n",
    "        рекурсивно-вложенный словарь\n",
    "    \"\"\"\n",
    "    if len(x) == 0:\n",
    "        return {}\n",
    "    if len(x) == 1:\n",
    "        return x[0]\n",
    "    k, *values = x\n",
    "    return {k:recursive_dict(values)}"
   ]
  },
  {
   "cell_type": "code",
   "execution_count": null,
   "metadata": {},
   "outputs": [],
   "source": [
    "print(f\"Из списка {l} получен словарь {recursive_dict(l)}\")"
   ]
  },
  {
   "cell_type": "markdown",
   "metadata": {},
   "source": [
    "## Задание 4"
   ]
  },
  {
   "cell_type": "markdown",
   "metadata": {},
   "source": [
    "Вы работаете секретарем и вам постоянно приходят различные документы. Вы должны быть очень внимательны, чтобы не потерять ни один документ. Каталог документов хранится в следующем виде:"
   ]
  },
  {
   "cell_type": "code",
   "execution_count": null,
   "metadata": {},
   "outputs": [],
   "source": [
    "import json"
   ]
  },
  {
   "cell_type": "code",
   "execution_count": null,
   "metadata": {},
   "outputs": [],
   "source": [
    "# documents = [\n",
    "#     {\"type\": \"passport\", \"number\": \"2207 876234\", \"name\": \"Василий Гупкин\"},\n",
    "#     {\"type\": \"invoice\", \"number\": \"11-2\", \"name\": \"Геннадий Покемонов\"},\n",
    "#     {\"type\": \"insurance\", \"number\": \"10006\", \"name\": \"Аристарх Павлов\"},\n",
    "#     {\"type\": \"passport\", \"number\": \"1241 999120\", \"name\": \"Евлампий Насосов\"},\n",
    "#     {\"type\": \"passport\", \"number\": \"3299 675324\", \"name\": \"Homer Simpson\"},\n",
    "#     {\"type\": \"insurance\", \"number\": \"30331\", \"name\": \"Marge Simpson\"},\n",
    "#     {\"type\": \"insurance\", \"number\": \"29056\", \"name\": \"Bart Simpson\"},\n",
    "#     {\"type\": \"invoice\", \"number\": \"70-4\", \"name\": \"Lisa Simpson\"}\n",
    "# ]"
   ]
  },
  {
   "cell_type": "markdown",
   "metadata": {},
   "source": [
    "Перечень полок, на которых находятся документы хранится в следующем виде:"
   ]
  },
  {
   "cell_type": "code",
   "execution_count": null,
   "metadata": {},
   "outputs": [],
   "source": [
    "# directories = {\n",
    "#     '1': ['2207 876234', '11-2'],\n",
    "#     '2': ['10006', '1241 999120', '70-4'],\n",
    "#     '3': ['29056', '3299 675324', '30331'],\n",
    "#     '4': ['15']\n",
    "# }"
   ]
  },
  {
   "cell_type": "markdown",
   "metadata": {},
   "source": [
    "Необходимо реализовать пользовательские команды (внимание! это не название функций, которые должны быть выразительными, а команды, которые вводит пользователь, чтобы получить необходимый результат):\n",
    "  \n",
    "- p – people – команда, которая спросит номер документа и выведет имя человека, которому он принадлежит;  \n",
    "- s – shelf – команда, которая спросит номер документа и выведет номер полки, на которой он находится  \n",
    "Правильно обработайте ситуацию, когда пользователь будет вводить несуществующий документ.\n",
    "- l – list – команда, которая выведет список всех документов в формате   \n",
    "**passport \"2207 876234\" \"Василий Гупкин\"**  \n",
    "- as – add shelf – команда, которая спросит номер новой полки и добавит ее в перечень\n",
    "- d – delete – команда, которая спросит номер документа и удалит его из каталога и из перечня полок. Предусмотрите сценарий, когда пользователь вводит несуществующий документ;  \n",
    "- m – move – команда, которая спросит номер документа и целевую полку и переместит его с текущей полки на целевую. Корректно обработайте кейсы, когда пользователь пытается переместить несуществующий документ или переместить документ на несуществующую полку;  \n",
    "- a – add – команда, которая добавит новый документ в каталог и в перечень полок, спросив его номер, тип, имя владельца и номер полки, на котором он будет храниться."
   ]
  },
  {
   "cell_type": "code",
   "execution_count": null,
   "metadata": {},
   "outputs": [],
   "source": [
    "# Преобразование переменных в json файл\n",
    "# with open ('documents.json', 'w', encoding='utf-8') as f:\n",
    "#     json.dump(documents, f, indent=4, ensure_ascii=False, sort_keys=False )\n",
    "\n",
    "\n",
    "# with open ('directories.json', 'w', encoding='utf-8') as f:\n",
    "#     json.dump(directories, f, indent=4, ensure_ascii=False, sort_keys=False )"
   ]
  },
  {
   "cell_type": "code",
   "execution_count": null,
   "metadata": {},
   "outputs": [],
   "source": [
    "with open ('documents.json', 'r', encoding=\"utf-8\") as out_docs:\n",
    "  documents = json.load(out_docs)\n",
    "  print(documents)\n",
    "with open ('directories.json', 'r', encoding=\"utf-8\") as out_docs:\n",
    "  directories = json.load(out_docs)\n",
    "  print(directories)"
   ]
  },
  {
   "cell_type": "code",
   "execution_count": null,
   "metadata": {},
   "outputs": [],
   "source": [
    "#p – people – команда, которая спросит номер документа и выведет имя человека, которому он принадлежит;\n",
    "\n",
    "def people():\n",
    "  doc_number = input('Введите номер документа: \\n')\n",
    "  for doc in documents:\n",
    "    if doc['number'] == doc_number:\n",
    "      print(doc['name'])\n",
    "      return\n",
    "  print('Документ с таким номером не найден. Уточните, пожалуйста, введенные данные')\n",
    "\n",
    "\n",
    "#l – list – команда, которая выведет список всех документов в формате passport \"2207 876234\" \"Василий Гупкин\"\n",
    "# С помощью исключения KeyError проверяю, есть ли поле \"name\" у документа не останавливая цикл\n",
    "\n",
    "def people_list():\n",
    "  for i, persons in enumerate(documents):\n",
    "    try:\n",
    "      if persons in documents:\n",
    "        print(i + 1, persons['type'], '\"' + persons['number'] + '\"', '\"' + persons['name'] + '\"')\n",
    "    except KeyError:\n",
    "      print(\"У клиента с номером документа\", persons['number'], \"отсутствует поле 'name'. Уточните, пожалуйста, введенные данные.\")\n",
    "\n",
    "# s – shelf – команда, которая спросит номер документа и выведет номер полки, на которой он находится\n",
    "# Правильно обработайте ситуацию, когда пользователь будет вводить несуществующий документ.\n",
    "def shelf():\n",
    "    doc_number = input('Введите номер документа: ')\n",
    "    for directory_keys, directory_value in directories.items():\n",
    "        if doc_number in directory_value:\n",
    "            print('Номер полки: ', directory_keys)\n",
    "            return\n",
    "    print('Документ с таким номером не найден. Уточните, пожалуйста, введенные данные.')\n",
    "\n",
    "# a – add – команда, которая добавит новый документ в каталог и в перечень полок, \n",
    "# спросив его номер, тип, имя владельца и номер полки, на котором он будет храниться.\n",
    "def add_document():\n",
    "    add_doc = input('Введите тип документа (passport, invoice, insurance):')\n",
    "    add_number = input('number:')\n",
    "    add_name = input('name:')\n",
    "    information = {'type': add_doc, 'number': add_number, 'name': add_name}\n",
    "    documents.append(information)\n",
    "    add_key = input('directory:')\n",
    "    print (documents)\n",
    "    if add_key in directories.keys():\n",
    "        print('Полка с номером', add_key, 'уже имеется в наличии! Документ добавлен.')\n",
    "        directories[add_key].append(add_number)\n",
    "    else:\n",
    "        directories[add_key] = []\n",
    "        print('Полка с номером', add_key, 'добавлена в базу. Теперь в наличии имеются полки: ', directories.keys())\n",
    "        directories[add_key].append(add_number)\n",
    "        print (directories)\n",
    "\n",
    "# d – delete – команда, которая спросит номер документа и удалит его из каталога и из перечня полок. \n",
    "# Предусмотрите сценарий, когда пользователь вводит несуществующий документ;\n",
    "def delete():\n",
    "    doc_number = input('Введите номер документа: ')\n",
    "    for document in documents:\n",
    "        if document[\"number\"] == doc_number:\n",
    "            print (\"\\nВыполнение удаления номера документа '{}'\\n\".format(document[\"number\"]))\n",
    "            input(\"\\nHaжмитe Enter, чтобы подтвердить.\")\n",
    "            del document[\"number\"] #Это решение по условию. Удаляем и ключ и значение\n",
    "            print(document)\n",
    "            for directory_keys in directories:\n",
    "                for directory_value in directories[directory_keys]:\n",
    "                    if doc_number == directory_value:\n",
    "                        directories[directory_keys].remove(directory_value)\n",
    "                        print(directories)\n",
    "                        return\n",
    "    print('Документ с таким номером не найден. Уточните, пожалуйста, введенные данные.')\n",
    "                        \n",
    "#m – move – команда, которая спросит номер документа и целевую полку и переместит его с текущей полки на целевую. \n",
    "#Корректно обработайте кейсы,когда пользователь пытается переместить несуществующий документ \n",
    "#или переместить документ на несуществующую полку;\n",
    "def move():\n",
    "    doc_number = input('Введите номер документа')\n",
    "    target_shelf = input('Введите номер полки, куда переместить')\n",
    "    for shelf, numbers in directories.items():\n",
    "        if doc_number in numbers:\n",
    "            if target_shelf in directories:\n",
    "                directories[target_shelf].append(doc_number)\n",
    "                directories[shelf].remove(doc_number)\n",
    "            else:\n",
    "                directories[target_shelf] = [doc_number]\n",
    "            print('Полка с номером', target_shelf, 'добавлена в базу.')\n",
    "            print('Содержимое полки {} теперь {}'.format(target_shelf, directories[target_shelf]))\n",
    "            return\n",
    "    print('Документ с таким номером не найден. Уточните, пожалуйста, введенные данные.')\n",
    "\n",
    "\n",
    "# as – add shelf – команда, которая спросит номер новой полки и добавит ее в перечень\n",
    "def add_shelf():\n",
    "  shelf_number = input('Введите номер полки: ')\n",
    "  if shelf_number in directories.keys():\n",
    "    print('Такая полка уже есть!')\n",
    "  else:\n",
    "    directories[shelf_number] = []\n",
    "    print('Теперь есть полки: ', *directories.keys() )\n",
    "    #print (directories)\n",
    "\n",
    "\n",
    "def main():\n",
    "    while True:\n",
    "        command = input('\\n\\\n",
    "     \"Для начала работы выберите комманду\" \\n\\\n",
    "    p – people – команда, которая спросит номер документа и выведет имя человека, которому он принадлежит;\\n\\\n",
    "    l – list – команда, которая выведет список всех документов в формате passport \"2207 876234\" \"Василий Гупкин\";\\n\\\n",
    "    s – shelf – команда, которая спросит номер документа и выведет номер полки, на которой он находится;\\n\\\n",
    "    a – add – команда, которая добавит новый документ в каталог и в перечень полок, спросив его номер, тип, имя владельца и номер полки, на котором он будет храниться.\\n\\\n",
    "    d – delete – команда, которая спросит номер документа и удалит его из каталога и из перечня полок;\\n\\\n",
    "    m – move – команда, которая спросит номер документа и целевую полку и переместит его с текущей полки на целевую;\\n\\\n",
    "    as – add shelf – команда, которая спросит номер новой полки и добавит ее в перечень;\\n\\\n",
    "    Для выхода наберите exit.\\n\\\n",
    "    Ваша команда: ')\n",
    "        if command == 'p':\n",
    "            people()\n",
    "        elif command == 'l':\n",
    "            people_list()\n",
    "        elif command == 's':\n",
    "            shelf()\n",
    "        elif command == 'a':\n",
    "            add_document()\n",
    "        elif command == 'd':\n",
    "            delete()\n",
    "        elif command == 'm':\n",
    "            move()\n",
    "        elif command == 'as':\n",
    "            add_shelf()\n",
    "        elif command == 'exit':\n",
    "            break\n",
    "        else:\n",
    "            print()\n",
    "            print('Вы ввели некорректную команду, повторите ввод.')\n",
    "            \n",
    "main()"
   ]
  },
  {
   "cell_type": "code",
   "execution_count": null,
   "metadata": {},
   "outputs": [],
   "source": []
  }
 ],
 "metadata": {
  "kernelspec": {
   "display_name": "Python 3",
   "language": "python",
   "name": "python3"
  },
  "language_info": {
   "codemirror_mode": {
    "name": "ipython",
    "version": 3
   },
   "file_extension": ".py",
   "mimetype": "text/x-python",
   "name": "python",
   "nbconvert_exporter": "python",
   "pygments_lexer": "ipython3",
   "version": "3.7.4"
  }
 },
 "nbformat": 4,
 "nbformat_minor": 2
}
